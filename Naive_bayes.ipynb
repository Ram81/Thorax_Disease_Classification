{
 "cells": [
  {
   "cell_type": "code",
   "execution_count": 105,
   "metadata": {},
   "outputs": [],
   "source": [
    "import csv\n",
    "import numpy as np\n",
    "from sklearn.naive_bayes import GaussianNB, MultinomialNB, BernoulliNB"
   ]
  },
  {
   "cell_type": "code",
   "execution_count": 107,
   "metadata": {},
   "outputs": [],
   "source": [
    "# load data\n",
    "def read_data(path):\n",
    "    return csv.reader(open(path, 'r'), delimiter=',')"
   ]
  },
  {
   "cell_type": "code",
   "execution_count": 108,
   "metadata": {},
   "outputs": [],
   "source": [
    "# preprocessing data\n",
    "train_data = read_data(\"csv/train.csv\")\n",
    "test_data = read_data(\"csv/test.csv\")\n",
    "\n",
    "X_train = []\n",
    "Y_train = []\n",
    "X_test = []\n",
    "Y_test = []\n",
    "flag = 1\n",
    "for i in train_data:\n",
    "    if (flag == 1):\n",
    "        flag = 0\n",
    "        continue\n",
    "    v = 0\n",
    "    if (i[2] == 'M'):\n",
    "        v = 1\n",
    "    X_train.append([int(i[1]), v, int(i[3])])\n",
    "    temp = i[5].split('_')\n",
    "    val = int(temp[1])\n",
    "    Y_train.append(val)\n",
    "\n",
    "for i in test_data:\n",
    "    if (flag == 0):\n",
    "        flag = 1\n",
    "        continue\n",
    "    v = 0\n",
    "    if (i[2] == 'M'):\n",
    "        v = 1\n",
    "    X_test.append([int(i[1]), v, int(i[3])])"
   ]
  },
  {
   "cell_type": "code",
   "execution_count": 113,
   "metadata": {},
   "outputs": [
    {
     "name": "stdout",
     "output_type": "stream",
     "text": [
      "Number of Mislabelled 12848 \n"
     ]
    }
   ],
   "source": [
    "# implementing naive bayes model\n",
    "model = MultinomialNB()\n",
    "model_fit = model.fit(X_train, Y_train)\n",
    "Y_pred = model_fit.predict(X_train)\n",
    "acc = ((Y_train != Y_pred).sum())\n",
    "print(\"Number of Mislabelled %d \"% acc)\n",
    "Y_test = mode_fit.predict(X_test)"
   ]
  },
  {
   "cell_type": "code",
   "execution_count": 114,
   "metadata": {},
   "outputs": [],
   "source": [
    "# Generate CSV\n",
    "train_data = read_data(\"csv/train.csv\")\n",
    "test_data = read_data(\"csv/test.csv\")\n",
    "\n",
    "solution = []\n",
    "solution.append(['row_id', 'detected'])\n",
    "\n",
    "with open(\"result.csv\", \"w\") as fobj:\n",
    "    writer = csv.writer(fobj, delimiter=',')\n",
    "    temp_id = []\n",
    "    temp_class  = []\n",
    "    flag = 0\n",
    "    for i in test_data:\n",
    "        if (flag == 0):\n",
    "            flag=1\n",
    "            continue\n",
    "        temp_id.append(i[0])\n",
    "    for i in Y_test:\n",
    "        temp_class.append(str('class_'+str(i)))\n",
    "    for i in range(len(temp_id)):\n",
    "        temp = [str(temp_id[i]), str(temp_class[i])]\n",
    "        solution.append(temp)\n",
    "    for i in solution:\n",
    "        writer.writerow(i)"
   ]
  },
  {
   "cell_type": "code",
   "execution_count": null,
   "metadata": {},
   "outputs": [],
   "source": []
  }
 ],
 "metadata": {
  "kernelspec": {
   "display_name": "Python 3",
   "language": "python",
   "name": "python3"
  },
  "language_info": {
   "codemirror_mode": {
    "name": "ipython",
    "version": 3
   },
   "file_extension": ".py",
   "mimetype": "text/x-python",
   "name": "python",
   "nbconvert_exporter": "python",
   "pygments_lexer": "ipython3",
   "version": "3.6.4"
  }
 },
 "nbformat": 4,
 "nbformat_minor": 2
}
