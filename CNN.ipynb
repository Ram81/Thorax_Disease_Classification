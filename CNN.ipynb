{
 "cells": [
  {
   "cell_type": "code",
   "execution_count": 5,
   "metadata": {},
   "outputs": [],
   "source": [
    "import numpy as np\n",
    "from keras.utils import np_utils\n",
    "from keras.models import Sequential\n",
    "from keras.layers import Dense, Activation, Flatten\n",
    "from keras.layers import Conv2D, MaxPooling2D\n",
    "\n",
    "from keras.applications import VGG16, VGG19"
   ]
  },
  {
   "cell_type": "code",
   "execution_count": 13,
   "metadata": {},
   "outputs": [],
   "source": [
    "input_shape = [1024, 1024, 1]\n",
    "# defining vgg model\n",
    "def build_model():\n",
    "    model = Sequential([\n",
    "        Conv2D(3, (3, 3), input_shape=input_shape, padding='same', activation='relu'),\n",
    "        Conv2D(3, (3, 3), activation='relu', padding='same'),\n",
    "        MaxPooling2D(pool_size=(2, 2), strides=(2, 2)),\n",
    "        Conv2D(32, (3, 3), activation='relu', padding='same'),\n",
    "        Conv2D(32, (3, 3), activation='relu', padding='same'),\n",
    "        MaxPooling2D(pool_size=(2, 2), strides=(2, 2)),\n",
    "        Conv2D(64, (3, 3), activation='relu', padding='same'),\n",
    "        Conv2D(64, (3, 3), activation='relu', padding='same'),\n",
    "        Conv2D(64, (3, 3), activation='relu', padding='same'),\n",
    "        MaxPooling2D(pool_size=(2, 2), strides=(2, 2)),\n",
    "        Conv2D(32, (3, 3), activation='relu', padding='same'),\n",
    "        Conv2D(32, (3, 3), activation='relu', padding='same'),\n",
    "        Conv2D(32, (3, 3), activation='relu', padding='same'),\n",
    "        MaxPooling2D(pool_size=(2, 2), strides=(2, 2), padding='same'),\n",
    "        Flatten(),\n",
    "        Dense(4096, activation='relu'),\n",
    "        Dense(1000, activation='relu'),\n",
    "        Dense(14, activation='softmax')\n",
    "    ])\n",
    "    return model        "
   ]
  },
  {
   "cell_type": "code",
   "execution_count": 14,
   "metadata": {
    "scrolled": true
   },
   "outputs": [
    {
     "name": "stdout",
     "output_type": "stream",
     "text": [
      "_________________________________________________________________\n",
      "Layer (type)                 Output Shape              Param #   \n",
      "=================================================================\n",
      "conv2d_43 (Conv2D)           (None, 1024, 1024, 3)     30        \n",
      "_________________________________________________________________\n",
      "conv2d_44 (Conv2D)           (None, 1024, 1024, 3)     84        \n",
      "_________________________________________________________________\n",
      "max_pooling2d_16 (MaxPooling (None, 512, 512, 3)       0         \n",
      "_________________________________________________________________\n",
      "conv2d_45 (Conv2D)           (None, 512, 512, 32)      896       \n",
      "_________________________________________________________________\n",
      "conv2d_46 (Conv2D)           (None, 512, 512, 32)      9248      \n",
      "_________________________________________________________________\n",
      "max_pooling2d_17 (MaxPooling (None, 256, 256, 32)      0         \n",
      "_________________________________________________________________\n",
      "conv2d_47 (Conv2D)           (None, 256, 256, 64)      18496     \n",
      "_________________________________________________________________\n",
      "conv2d_48 (Conv2D)           (None, 256, 256, 64)      36928     \n",
      "_________________________________________________________________\n",
      "conv2d_49 (Conv2D)           (None, 256, 256, 64)      36928     \n",
      "_________________________________________________________________\n",
      "max_pooling2d_18 (MaxPooling (None, 128, 128, 64)      0         \n",
      "_________________________________________________________________\n",
      "conv2d_50 (Conv2D)           (None, 128, 128, 32)      18464     \n",
      "_________________________________________________________________\n",
      "conv2d_51 (Conv2D)           (None, 128, 128, 32)      9248      \n",
      "_________________________________________________________________\n",
      "conv2d_52 (Conv2D)           (None, 128, 128, 32)      9248      \n",
      "_________________________________________________________________\n",
      "max_pooling2d_19 (MaxPooling (None, 64, 64, 32)        0         \n",
      "_________________________________________________________________\n",
      "flatten_4 (Flatten)          (None, 131072)            0         \n",
      "_________________________________________________________________\n",
      "dense_10 (Dense)             (None, 4096)              536875008 \n",
      "_________________________________________________________________\n",
      "dense_11 (Dense)             (None, 1000)              4097000   \n",
      "_________________________________________________________________\n",
      "dense_12 (Dense)             (None, 14)                14014     \n",
      "=================================================================\n",
      "Total params: 541,125,592\n",
      "Trainable params: 541,125,592\n",
      "Non-trainable params: 0\n",
      "_________________________________________________________________\n"
     ]
    }
   ],
   "source": [
    "model = build_model()\n",
    "model.summary()"
   ]
  },
  {
   "cell_type": "code",
   "execution_count": null,
   "metadata": {},
   "outputs": [],
   "source": []
  }
 ],
 "metadata": {
  "kernelspec": {
   "display_name": "Python 3",
   "language": "python",
   "name": "python3"
  },
  "language_info": {
   "codemirror_mode": {
    "name": "ipython",
    "version": 3
   },
   "file_extension": ".py",
   "mimetype": "text/x-python",
   "name": "python",
   "nbconvert_exporter": "python",
   "pygments_lexer": "ipython3",
   "version": "3.5.4"
  }
 },
 "nbformat": 4,
 "nbformat_minor": 2
}
